{
 "cells": [
  {
   "cell_type": "markdown",
   "id": "d5a91e7b-eb3b-44d1-98d2-119ae710a44f",
   "metadata": {},
   "source": [
    "### Сделайте транспонирование матрицы без использования numpy и других библиотек"
   ]
  },
  {
   "cell_type": "code",
   "execution_count": 2,
   "id": "69ea023a-fd96-4fbe-b16e-7be6d2954b2a",
   "metadata": {
    "tags": []
   },
   "outputs": [
    {
     "name": "stdout",
     "output_type": "stream",
     "text": [
      "[[1, 4, 7], [2, 5, 8], [3, 6, 9]]\n"
     ]
    }
   ],
   "source": [
    "def transpose(matrix):\n",
    "    a = len (matrix)\n",
    "    b = len (matrix[0])\n",
    "    transposed = []\n",
    "    for j in range (b):\n",
    "        c = []\n",
    "        for i in range(a):\n",
    "            c = c + [matrix [i][j]]\n",
    "        transposed = transposed + [c]\n",
    "    return transposed\n",
    "    \n",
    "matrix = [[1, 2, 3], [4, 5, 6], [7, 8, 9]]\n",
    "print (transpose (matrix))"
   ]
  },
  {
   "cell_type": "code",
   "execution_count": 3,
   "id": "0426e312-45be-4e71-abac-538ec0904cad",
   "metadata": {
    "tags": []
   },
   "outputs": [],
   "source": [
    "import numpy as np"
   ]
  },
  {
   "cell_type": "markdown",
   "id": "17f91599-e6be-4187-8ef1-9b95b3f01149",
   "metadata": {},
   "source": [
    "### Теперь сделайте транспонирование с помощью numpy"
   ]
  },
  {
   "cell_type": "code",
   "execution_count": 32,
   "id": "fd65eae8-5159-4a2e-8529-f2d14dceed5d",
   "metadata": {
    "tags": []
   },
   "outputs": [],
   "source": [
    "matrix = np.array([[1, 2, 3],\n",
    "                   [4, 5, 6],\n",
    "                   [7, 8, 9]])\n"
   ]
  },
  {
   "cell_type": "code",
   "execution_count": 4,
   "id": "8bc1e220-21df-4615-8961-b332922faf0a",
   "metadata": {},
   "outputs": [
    {
     "name": "stdout",
     "output_type": "stream",
     "text": [
      "[[1 4 7]\n",
      " [2 5 8]\n",
      " [3 6 9]]\n"
     ]
    }
   ],
   "source": [
    "print(np.transpose(matrix))"
   ]
  },
  {
   "cell_type": "markdown",
   "id": "128d8403-bafa-4479-99ea-380ff89d7d74",
   "metadata": {
    "tags": []
   },
   "source": [
    "### Сделайте умножение транспонированного input_vector на weights_matrix"
   ]
  },
  {
   "cell_type": "code",
   "execution_count": 5,
   "id": "22cdd830-7d55-463c-923b-1dbe4fa75790",
   "metadata": {},
   "outputs": [
    {
     "name": "stdout",
     "output_type": "stream",
     "text": [
      "[[0.64106741 0.51749286]]\n"
     ]
    }
   ],
   "source": [
    "def sigmoid(x):\n",
    "    return 1 / (1 + np.exp(-x))\n",
    "\n",
    "input_vector = np.array([[0.5], \n",
    "                         [0.8]])\n",
    "\n",
    "weights_matrix = np.array([[0.2, 0.3], \n",
    "                           [0.6, -0.1]])\n",
    "\n",
    "\n",
    "hidden_layer_output = sigmoid(np.dot(np.transpose(input_vector),weights_matrix))\n",
    "\n",
    "print(hidden_layer_output)"
   ]
  },
  {
   "cell_type": "markdown",
   "id": "b3cfd29e-5f3b-4485-9b26-b9d787dd68b7",
   "metadata": {},
   "source": [
    "\n",
    "### Используя матричные операции, найдите веса линейной регрессии.\n",
    "\n",
    "Пусть у вас есть следующие данные:\n",
    "\n",
    "- $ X $ - матрица признаков размерности $ m \\times n $, где $ m $ - количество объектов, а $ n $ - количество признаков.\n",
    "- $ y $ - вектор ответов размерности $ m \\times n $\n",
    "\n",
    "Веса линейной регрессии $ w $ можно найти по формуле:\n",
    "\n",
    "$  w = (X^T X)^{-1} X^T y  $ (-1 - это обратная матрица)\n",
    "\n",
    "Напишите функцию, для нахождения $w$\n"
   ]
  },
  {
   "cell_type": "code",
   "execution_count": 11,
   "id": "a621a13c-9799-4110-b892-d48b28f0f737",
   "metadata": {
    "tags": []
   },
   "outputs": [],
   "source": [
    "import numpy as np\n",
    "\n",
    "def compute_weights(X, y):\n",
    "    xtx = X.T @ X\n",
    "\n",
    "    if np.linalg.det(xtx) == 0:\n",
    "        raise ValueError(\"Матрица X^T X необратима. Проверьте наличие коллинеарных признаков.\")\n",
    "    w = np.dot(np.dot(np.linalg.inv(np.dot(np.transpose(X), X)),np.transpose(X)), y)\n",
    "    return w\n",
    "\n"
   ]
  },
  {
   "cell_type": "code",
   "execution_count": 7,
   "id": "fff97881-339f-437b-9364-d810a3bebd51",
   "metadata": {
    "tags": []
   },
   "outputs": [
    {
     "ename": "ValueError",
     "evalue": "Матрица X^T X необратима. Проверьте наличие коллинеарных признаков.",
     "output_type": "error",
     "traceback": [
      "\u001b[1;31m---------------------------------------------------------------------------\u001b[0m",
      "\u001b[1;31mValueError\u001b[0m                                Traceback (most recent call last)",
      "Cell \u001b[1;32mIn[7], line 12\u001b[0m\n\u001b[0;32m      1\u001b[0m X \u001b[38;5;241m=\u001b[39m np\u001b[38;5;241m.\u001b[39marray([\n\u001b[0;32m      2\u001b[0m     [\u001b[38;5;241m1\u001b[39m, \u001b[38;5;241m2\u001b[39m, \u001b[38;5;241m3\u001b[39m, \u001b[38;5;241m6\u001b[39m, \u001b[38;5;241m5\u001b[39m, \u001b[38;5;241m6\u001b[39m],\n\u001b[0;32m      3\u001b[0m     [\u001b[38;5;241m2\u001b[39m, \u001b[38;5;241m4\u001b[39m, \u001b[38;5;241m2\u001b[39m, \u001b[38;5;241m4\u001b[39m, \u001b[38;5;241m6\u001b[39m, \u001b[38;5;241m7\u001b[39m],\n\u001b[1;32m   (...)\u001b[0m\n\u001b[0;32m      7\u001b[0m     [\u001b[38;5;241m6\u001b[39m, \u001b[38;5;241m12\u001b[39m, \u001b[38;5;241m1\u001b[39m, \u001b[38;5;241m2\u001b[39m, \u001b[38;5;241m10\u001b[39m, \u001b[38;5;241m11\u001b[39m]\n\u001b[0;32m      8\u001b[0m ])\n\u001b[0;32m     11\u001b[0m y \u001b[38;5;241m=\u001b[39m np\u001b[38;5;241m.\u001b[39mrandom\u001b[38;5;241m.\u001b[39mrand(\u001b[38;5;241m6\u001b[39m, \u001b[38;5;241m1\u001b[39m)\n\u001b[1;32m---> 12\u001b[0m weights \u001b[38;5;241m=\u001b[39m \u001b[43mcompute_weights\u001b[49m\u001b[43m(\u001b[49m\u001b[43mX\u001b[49m\u001b[43m,\u001b[49m\u001b[43m \u001b[49m\u001b[43my\u001b[49m\u001b[43m)\u001b[49m\n",
      "Cell \u001b[1;32mIn[6], line 7\u001b[0m, in \u001b[0;36mcompute_weights\u001b[1;34m(X, y)\u001b[0m\n\u001b[0;32m      4\u001b[0m xtx \u001b[38;5;241m=\u001b[39m X\u001b[38;5;241m.\u001b[39mT \u001b[38;5;241m@\u001b[39m X\n\u001b[0;32m      6\u001b[0m \u001b[38;5;28;01mif\u001b[39;00m np\u001b[38;5;241m.\u001b[39mlinalg\u001b[38;5;241m.\u001b[39mdet(xtx) \u001b[38;5;241m==\u001b[39m \u001b[38;5;241m0\u001b[39m:\n\u001b[1;32m----> 7\u001b[0m     \u001b[38;5;28;01mraise\u001b[39;00m \u001b[38;5;167;01mValueError\u001b[39;00m(\u001b[38;5;124m\"\u001b[39m\u001b[38;5;124mМатрица X^T X необратима. Проверьте наличие коллинеарных признаков.\u001b[39m\u001b[38;5;124m\"\u001b[39m)\n\u001b[0;32m      8\u001b[0m w \u001b[38;5;241m=\u001b[39m np\u001b[38;5;241m.\u001b[39mdot(np\u001b[38;5;241m.\u001b[39mdot(np\u001b[38;5;241m.\u001b[39mlinalg\u001b[38;5;241m.\u001b[39minv(np\u001b[38;5;241m.\u001b[39mdot(np\u001b[38;5;241m.\u001b[39mtranspose(X), X)),np\u001b[38;5;241m.\u001b[39mtranspose(X)), y)\n\u001b[0;32m      9\u001b[0m \u001b[38;5;28;01mreturn\u001b[39;00m w\n",
      "\u001b[1;31mValueError\u001b[0m: Матрица X^T X необратима. Проверьте наличие коллинеарных признаков."
     ]
    }
   ],
   "source": [
    "X = np.array([\n",
    "    [1, 2, 3, 6, 5, 6],\n",
    "    [2, 4, 2, 4, 6, 7],\n",
    "    [3, 6, 4, 8, 7, 8],\n",
    "    [4, 8, 3, 6, 8, 9],\n",
    "    [5, 10, 5, 10, 9, 10],\n",
    "    [6, 12, 1, 2, 10, 11]\n",
    "])\n",
    "\n",
    "\n",
    "y = np.random.rand(6, 1)\n",
    "weights = compute_weights(X, y)\n"
   ]
  },
  {
   "cell_type": "markdown",
   "id": "5b0ef33b-7876-4d23-805e-b293a4184042",
   "metadata": {},
   "source": [
    "### В том случае, если у матрицы есть линейно зависимые столбцы посчитать веса не получится"
   ]
  },
  {
   "cell_type": "code",
   "execution_count": 30,
   "id": "b52f5ec3-0b5d-40bb-9bcf-ca07e936bd97",
   "metadata": {
    "tags": []
   },
   "outputs": [
    {
     "ename": "ValueError",
     "evalue": "Матрица X^T X необратима. Проверьте наличие коллинеарных признаков.",
     "output_type": "error",
     "traceback": [
      "\u001b[0;31m---------------------------------------------------------------------------\u001b[0m",
      "\u001b[0;31mValueError\u001b[0m                                Traceback (most recent call last)",
      "Cell \u001b[0;32mIn[30], line 12\u001b[0m\n\u001b[1;32m      1\u001b[0m X \u001b[38;5;241m=\u001b[39m np\u001b[38;5;241m.\u001b[39marray([\n\u001b[1;32m      2\u001b[0m     [\u001b[38;5;241m1\u001b[39m, \u001b[38;5;241m2\u001b[39m, \u001b[38;5;241m3\u001b[39m, \u001b[38;5;241m4\u001b[39m, \u001b[38;5;241m5\u001b[39m, \u001b[38;5;241m6\u001b[39m],\n\u001b[1;32m      3\u001b[0m     [\u001b[38;5;241m2\u001b[39m, \u001b[38;5;241m4\u001b[39m, \u001b[38;5;241m2\u001b[39m, \u001b[38;5;241m8\u001b[39m, \u001b[38;5;241m6\u001b[39m, \u001b[38;5;241m7\u001b[39m],\n\u001b[0;32m   (...)\u001b[0m\n\u001b[1;32m      7\u001b[0m     [\u001b[38;5;241m6\u001b[39m, \u001b[38;5;241m12\u001b[39m, \u001b[38;5;241m1\u001b[39m, \u001b[38;5;241m24\u001b[39m, \u001b[38;5;241m10\u001b[39m, \u001b[38;5;241m11\u001b[39m]\n\u001b[1;32m      8\u001b[0m ])\n\u001b[1;32m     11\u001b[0m y \u001b[38;5;241m=\u001b[39m np\u001b[38;5;241m.\u001b[39mrandom\u001b[38;5;241m.\u001b[39mrand(\u001b[38;5;241m6\u001b[39m, \u001b[38;5;241m1\u001b[39m)\n\u001b[0;32m---> 12\u001b[0m weights \u001b[38;5;241m=\u001b[39m compute_weights(X, y)\n",
      "Cell \u001b[0;32mIn[27], line 6\u001b[0m, in \u001b[0;36mcompute_weights\u001b[0;34m(X, y)\u001b[0m\n\u001b[1;32m      4\u001b[0m \u001b[38;5;66;03m# Проверка на обратимость\u001b[39;00m\n\u001b[1;32m      5\u001b[0m \u001b[38;5;28;01mif\u001b[39;00m np\u001b[38;5;241m.\u001b[39mlinalg\u001b[38;5;241m.\u001b[39mdet(xtx) \u001b[38;5;241m==\u001b[39m \u001b[38;5;241m0\u001b[39m:\n\u001b[0;32m----> 6\u001b[0m     \u001b[38;5;28;01mraise\u001b[39;00m \u001b[38;5;167;01mValueError\u001b[39;00m(\u001b[38;5;124m\"\u001b[39m\u001b[38;5;124mМатрица X^T X необратима. Проверьте наличие коллинеарных признаков.\u001b[39m\u001b[38;5;124m\"\u001b[39m)\n\u001b[1;32m      8\u001b[0m inv_xtx \u001b[38;5;241m=\u001b[39m np\u001b[38;5;241m.\u001b[39mlinalg\u001b[38;5;241m.\u001b[39minv(xtx)\n\u001b[1;32m      9\u001b[0m w \u001b[38;5;241m=\u001b[39m inv_xtx \u001b[38;5;241m@\u001b[39m X\u001b[38;5;241m.\u001b[39mT \u001b[38;5;241m@\u001b[39m y\n",
      "\u001b[0;31mValueError\u001b[0m: Матрица X^T X необратима. Проверьте наличие коллинеарных признаков."
     ]
    }
   ],
   "source": [
    "X1 = np.array([\n",
    "    [1, 2, 3, 4, 5, 6],\n",
    "    [2, 4, 2, 8, 6, 7],\n",
    "    [3, 6, 4, 12, 7, 8],\n",
    "    [4, 8, 3, 16, 8, 9],\n",
    "    [5, 10, 5, 20, 9, 10],\n",
    "    [6, 12, 1, 24, 10, 11]\n",
    "])\n",
    "\n",
    "\n",
    "y1 = np.random.rand(6, 1)\n",
    "weights = compute_weights(X1, y1)"
   ]
  },
  {
   "cell_type": "markdown",
   "id": "4601943f-c65a-4ae7-9d42-99f5d6d850c7",
   "metadata": {
    "tags": []
   },
   "source": [
    "### Придумайте способ, который может у любой матрицы X найти линейно зависимые столбцы и напишите такую функцию. После этого примените эту функцию к матрице X1 "
   ]
  },
  {
   "cell_type": "code",
   "execution_count": null,
   "id": "dd399c00-bd5f-44e4-976e-19d2b546564c",
   "metadata": {},
   "outputs": [],
   "source": [
    "#Ваш код здесь"
   ]
  },
  {
   "cell_type": "markdown",
   "id": "efcffbc6-46da-43af-aa87-27bfff2c22a1",
   "metadata": {},
   "source": [
    "### Давайте рассмотрим матричное уравнение вида:\n",
    "\n",
    "### $ AX = B $\n",
    "\n",
    "### Напишите код, который найдет $X$\n"
   ]
  },
  {
   "cell_type": "code",
   "execution_count": 9,
   "id": "519f08a4-5c2c-43f7-ace6-3649a7279e34",
   "metadata": {},
   "outputs": [
    {
     "name": "stdout",
     "output_type": "stream",
     "text": [
      "Матрица X:\n",
      "[[-3. -4.]\n",
      " [ 4.  5.]]\n"
     ]
    }
   ],
   "source": [
    "A = np.array([[1, 2], [3, 4]])\n",
    "B = np.array([[5, 6], [7, 8]])\n",
    "X = np.dot(np.linalg.inv(A),B) #по свойствам матриц, обратное А нужно умножить на левую и правую стороны A*X=B, тогда X будет равно обратное A*B\n",
    "                               \n",
    "print(\"Матрица X:\")\n",
    "print(X)"
   ]
  },
  {
   "cell_type": "markdown",
   "id": "cbbc0195-9f4d-47c4-8ee9-addcf709f4a2",
   "metadata": {},
   "source": [
    "### Напишите код, который находит собственные значения и векторы матрицы A"
   ]
  },
  {
   "cell_type": "code",
   "execution_count": 10,
   "id": "d0dfbb84-3e19-4111-a7e6-e8632f3d13da",
   "metadata": {},
   "outputs": [
    {
     "name": "stdout",
     "output_type": "stream",
     "text": [
      "Собственные значения:\n",
      "[3.5+1.32287566j 3.5-1.32287566j]\n",
      "\n",
      "Собственные векторы:\n",
      "[[0.81649658+0.j         0.81649658-0.j        ]\n",
      " [0.20412415-0.54006172j 0.20412415+0.54006172j]]\n"
     ]
    }
   ],
   "source": [
    "import numpy as np\n",
    "\n",
    "A = np.array([[4, -2],\n",
    "              [1,  3]])\n",
    "\n",
    "eigenvalues, eigenvectors = np.linalg.eig(A)\n",
    "\n",
    "print(\"Собственные значения:\")\n",
    "print(eigenvalues)\n",
    "print(\"\\nСобственные векторы:\")\n",
    "print(eigenvectors)"
   ]
  },
  {
   "cell_type": "markdown",
   "id": "00dd11ae-01a1-4654-a467-4756112d1e5d",
   "metadata": {},
   "source": [
    "### Почему числа получились какие-то странные?"
   ]
  },
  {
   "cell_type": "markdown",
   "id": "9388b3aa-2b7f-4dcc-80d4-bd6f70fafd29",
   "metadata": {
    "tags": []
   },
   "source": [
    "Числа получились комплексные, т.к. у характеристического многочлена данной матрицы нет действительных корней, а только комплексные. Данная матрица аналогична матрице масштабирования вращения, которая повернута на углы, отличающиеся от 180 и 360, и имеющая тоже только комплексные собственные значения."
   ]
  }
 ],
 "metadata": {
  "kernelspec": {
   "display_name": "Python 3 (ipykernel)",
   "language": "python",
   "name": "python3"
  },
  "language_info": {
   "codemirror_mode": {
    "name": "ipython",
    "version": 3
   },
   "file_extension": ".py",
   "mimetype": "text/x-python",
   "name": "python",
   "nbconvert_exporter": "python",
   "pygments_lexer": "ipython3",
   "version": "3.10.9"
  }
 },
 "nbformat": 4,
 "nbformat_minor": 5
}
